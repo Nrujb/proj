{
 "cells": [
  {
   "cell_type": "code",
   "execution_count": 6,
   "id": "8fdb82e1-5c63-4121-9c92-e9e79582ce62",
   "metadata": {},
   "outputs": [],
   "source": [
    "import numpy as np\n",
    "import pandas as pd\n",
    "\n",
    "from catboost import CatBoostRegressor, Pool\n",
    "from sklearn.model_selection import train_test_split\n",
    "from sklearn.metrics import mean_squared_error"
   ]
  },
  {
   "cell_type": "code",
   "execution_count": 8,
   "id": "9839e843-2adb-4b07-8736-b211e4773361",
   "metadata": {},
   "outputs": [],
   "source": [
    "train = pd.read_csv('../input/car_train.csv')\n",
    "test = pd.read_csv('../input/car_test.csv')\n",
    "rides = pd.read_csv('../input/rides_info.csv')\n",
    "fixes = pd.read_csv('../input/fix_info.csv')\n",
    "drivers = pd.read_csv('../input/driver_info.csv')\n"
   ]
  },
  {
   "cell_type": "code",
   "execution_count": 9,
   "id": "0ebb9ac7-e9a2-4658-91b4-43a06a8c0224",
   "metadata": {},
   "outputs": [],
   "source": [
    "sub_rides = rides[['car_id', 'user_id']]\n",
    "sub_rides = sub_rides.drop_duplicates(subset=['car_id'], keep='last')\n",
    "train = pd.merge(train, sub_rides, on=['car_id', 'car_id'], how='left')\n",
    "test = pd.merge(test, sub_rides, on=['car_id', 'car_id'], how='left')"
   ]
  },
  {
   "cell_type": "code",
   "execution_count": 10,
   "id": "8993fc6e-f9b2-44fc-ac64-41eaba4659c2",
   "metadata": {},
   "outputs": [
    {
     "name": "stdout",
     "output_type": "stream",
     "text": [
      "cat_features : 3 ['car_type', 'fuel_type', 'model']\n",
      "num_features : 4 ['car_rating', 'year_to_start', 'riders', 'year_to_work']\n",
      "targets ['target_reg']\n"
     ]
    }
   ],
   "source": [
    "features2drop = ['car_id', 'target_class', 'user_id', 'ride_id', 'ride_date', 'refueling',\n",
    "                'ride_cost', 'ride_duration', 'distance'] \n",
    "target = ['target_reg']  \n",
    "cat_features = ['car_type', 'fuel_type', 'model'] \n",
    "\n",
    "filtered_features = [i for i in train.columns if (i not in target and i not in features2drop)]\n",
    "num_features = [i for i in filtered_features if i not in cat_features]\n",
    "\n",
    "\n",
    "print('cat_features :', len(cat_features), cat_features)\n",
    "print('num_features :', len(num_features), num_features)\n",
    "print('targets', target)"
   ]
  },
  {
   "cell_type": "code",
   "execution_count": 11,
   "id": "f8c66a28-6b64-4975-adee-5f55b246eacc",
   "metadata": {},
   "outputs": [],
   "source": [
    "f = lambda x: x.nunique()\n",
    "rides_df_gr = rides.groupby('car_id', as_index=False).agg(mean_rating = ('rating', 'mean'),\n",
    "                                                   distance_sum = ('distance', 'sum'),\n",
    "                                                   rating_min = ('rating', 'min'),\n",
    "                                                   speed_max = ('speed_max', 'max'),\n",
    "                                                   user_ride_quality_median = ('user_ride_quality', 'median'), \n",
    "                                                   user_uniq = ('user_id', f))\n",
    "\n",
    "\n",
    "rides_df_gr.head(2)\n",
    "\n",
    "def add_featues(df):\n",
    "    \n",
    "    if 'mean_rating' not in df.columns:\n",
    "        return df.merge(rides_df_gr, on = 'car_id', how = 'left')\n",
    "    \n",
    "    return df\n",
    "    \n",
    "    \n",
    "train = add_featues(train)\n",
    "test = add_featues(test)\n",
    "\n",
    "filtered_features = [i for i in train.columns if (i not in target and i not in features2drop)]\n",
    "num_features = [i for i in filtered_features if i not in cat_features]"
   ]
  },
  {
   "cell_type": "code",
   "execution_count": 12,
   "id": "5dc45f3d-f985-4796-be0e-244787245091",
   "metadata": {},
   "outputs": [],
   "source": [
    "fixes_df_gr = fixes.groupby('car_id', as_index=False).agg(mean_destroy_degree = ('destroy_degree', 'mean'),\n",
    "                                                   mean_work_duration = ('work_duration', 'mean'))\n",
    "\n",
    "\n",
    "fixes_df_gr.head(2)\n",
    "def addd_featues(df):\n",
    "    \n",
    "    if 'mean_destroy_degree' not in df.columns:\n",
    "        return df.merge(fixes_df_gr, on = 'car_id', how = 'left')\n",
    "    \n",
    "    return df\n",
    "    \n",
    "    \n",
    "train = addd_featues(train)\n",
    "test = addd_featues(test)\n",
    "\n",
    "filtered_features = [i for i in train.columns if (i not in target and i not in features2drop)]\n",
    "num_features = [i for i in filtered_features if i not in cat_features]"
   ]
  },
  {
   "cell_type": "code",
   "execution_count": 13,
   "id": "b4fbe968-aebc-4260-9603-c5f5e2f421d8",
   "metadata": {},
   "outputs": [],
   "source": [
    "drivers_df_gr = drivers.groupby('user_id', as_index=False).agg(mean_user_time_accident = ('user_time_accident', 'mean'),\n",
    "                                                              mean_sex = ('sex', 'mean'),\n",
    "                                                              mean_user_rides = ('user_rides', 'mean'),\n",
    "                                                              mean_user_rating = ('user_rating', 'mean'))\n",
    "\n",
    "\n",
    "drivers_df_gr.head(2)\n",
    "def add_featues(df):\n",
    "    \n",
    "    if 'mean_user_time_accident' not in df.columns:\n",
    "        return df.merge(drivers_df_gr, on = 'user_id', how = 'left')\n",
    "    \n",
    "    return df\n",
    "    \n",
    "    \n",
    "train = add_featues(train)\n",
    "test = add_featues(test)"
   ]
  },
  {
   "cell_type": "code",
   "execution_count": 14,
   "id": "c4c47a4f-db36-42f9-ad3a-d6aad95a17e2",
   "metadata": {},
   "outputs": [],
   "source": [
    "train['distpertime'] = train['distance_sum'] / (train['year_to_work'] - train['year_to_start'])\n",
    "test['distpertime'] = test['distance_sum'] / (test['year_to_work'] - test['year_to_start'])"
   ]
  },
  {
   "cell_type": "code",
   "execution_count": 15,
   "id": "77243205-d719-4020-917a-7f59d4d44f8f",
   "metadata": {},
   "outputs": [
    {
     "name": "stdout",
     "output_type": "stream",
     "text": [
      "num_features : 17 ['car_rating', 'year_to_start', 'riders', 'year_to_work', 'mean_rating', 'distance_sum', 'rating_min', 'speed_max', 'user_ride_quality_median', 'user_uniq', 'mean_destroy_degree', 'mean_work_duration', 'mean_user_time_accident', 'mean_sex', 'mean_user_rides', 'mean_user_rating', 'distpertime']\n",
      "cat_features : 3 ['car_type', 'fuel_type', 'model']\n",
      "targets ['target_reg']\n"
     ]
    }
   ],
   "source": [
    "filtered_features = [i for i in train.columns if (i not in target and i not in features2drop)]\n",
    "num_features = [i for i in filtered_features if i not in cat_features]\n",
    "\n",
    "print('num_features :', len(num_features), num_features)\n",
    "print('cat_features :', len(cat_features), cat_features)\n",
    "print('targets', target)"
   ]
  },
  {
   "cell_type": "code",
   "execution_count": 18,
   "id": "b03b98d4-6ac4-43e5-a486-7f0a763d5e04",
   "metadata": {},
   "outputs": [
    {
     "name": "stdout",
     "output_type": "stream",
     "text": [
      "Learning rate set to 0.056174\n",
      "0:\tlearn: 16.8266722\ttest: 17.7075663\tbest: 17.7075663 (0)\ttotal: 30.8ms\tremaining: 30.7s\n",
      "100:\tlearn: 8.2837355\ttest: 10.0572329\tbest: 10.0572329 (100)\ttotal: 3.27s\tremaining: 29.1s\n",
      "200:\tlearn: 7.2696832\ttest: 9.9386588\tbest: 9.9223614 (188)\ttotal: 6.13s\tremaining: 24.4s\n",
      "300:\tlearn: 6.3744269\ttest: 9.9421949\tbest: 9.9112137 (223)\ttotal: 9.08s\tremaining: 21.1s\n",
      "Stopped by overfitting detector  (100 iterations wait)\n",
      "\n",
      "bestTest = 9.911213699\n",
      "bestIteration = 223\n",
      "\n",
      "Shrink model to first 224 iterations.\n"
     ]
    }
   ],
   "source": [
    "X = train[filtered_features]\n",
    "y = train['target_reg']\n",
    "\n",
    "X_train, X_test, y_train, y_test = train_test_split(X, y, test_size=0.2, random_state=42)\n",
    "\n",
    "\n",
    "train_pool = Pool(X_train, y_train, cat_features=cat_features)\n",
    "test_pool = Pool(X_test, y_test, cat_features=cat_features)\n",
    "\n",
    "model = CatBoostRegressor(\n",
    "    random_seed=42, \n",
    "    thread_count=-1, \n",
    "    cat_features=cat_features\n",
    ")\n",
    "\n",
    "model.fit(\n",
    "    train_pool,\n",
    "    eval_set=test_pool,\n",
    "    verbose=100,\n",
    "    use_best_model=True,\n",
    "    plot=False,\n",
    "    early_stopping_rounds=100,\n",
    ")\n",
    "\n",
    "idxs, scores = model.get_object_importance(\n",
    "    test_pool, train_pool, importance_values_sign=\"Positive\", thread_count=-1\n",
    ")"
   ]
  },
  {
   "cell_type": "code",
   "execution_count": 19,
   "id": "c7e19a82-2b97-42f1-8887-9da2228acc34",
   "metadata": {},
   "outputs": [
    {
     "name": "stdout",
     "output_type": "stream",
     "text": [
      "\n",
      " RMSE: 9.911213745524025\n"
     ]
    }
   ],
   "source": [
    "y_pred = model.predict(X_test)\n",
    "print(f'\\n RMSE: {mean_squared_error(y_test, y_pred) ** 0.5}')"
   ]
  },
  {
   "cell_type": "code",
   "execution_count": 20,
   "id": "ee1a8c23-2fb6-4cf7-ab64-69b808643280",
   "metadata": {},
   "outputs": [
    {
     "name": "stdout",
     "output_type": "stream",
     "text": [
      "CSV file saved!\n"
     ]
    }
   ],
   "source": [
    "test['target_reg'] = model.predict(test[filtered_features])\n",
    "test[['car_id', 'target_reg']].to_csv('output.csv', index=False)\n",
    "print('CSV file saved!')"
   ]
  },
  {
   "cell_type": "code",
   "execution_count": null,
   "id": "4bd2a531-c737-4969-8517-10efe0901320",
   "metadata": {},
   "outputs": [],
   "source": []
  }
 ],
 "metadata": {
  "kernelspec": {
   "display_name": "Python 3 (ipykernel)",
   "language": "python",
   "name": "python3"
  },
  "language_info": {
   "codemirror_mode": {
    "name": "ipython",
    "version": 3
   },
   "file_extension": ".py",
   "mimetype": "text/x-python",
   "name": "python",
   "nbconvert_exporter": "python",
   "pygments_lexer": "ipython3",
   "version": "3.12.5"
  }
 },
 "nbformat": 4,
 "nbformat_minor": 5
}
